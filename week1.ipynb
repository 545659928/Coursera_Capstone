{
  "nbformat": 4,
  "nbformat_minor": 0,
  "metadata": {
    "colab": {
      "name": "week1.ipynb",
      "provenance": [],
      "collapsed_sections": []
    },
    "kernelspec": {
      "name": "python3",
      "display_name": "Python 3"
    },
    "language_info": {
      "name": "python"
    }
  },
  "cells": [
    {
      "cell_type": "code",
      "metadata": {
        "colab": {
          "base_uri": "https://localhost:8080/"
        },
        "id": "Ndzo-ZcK3N6_",
        "outputId": "6ebd15b5-8d9f-4194-8695-043d455d523c"
      },
      "source": [
        "import pandas as pd\n",
        "import numpy as np\n",
        "# import scipy\n",
        "# from scipy.stats import pearsonr\n",
        "# import scipy.stats as stats\n",
        "# from sklearn.linear_model import LinearRegression\n",
        "\n",
        "print(\"Hello Capstone Project Course!\")"
      ],
      "execution_count": 2,
      "outputs": [
        {
          "output_type": "stream",
          "text": [
            "Hello Capstone Project Course!\n"
          ],
          "name": "stdout"
        }
      ]
    }
  ]
}